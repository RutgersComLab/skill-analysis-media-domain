{
 "cells": [
  {
   "cell_type": "code",
   "execution_count": null,
   "metadata": {},
   "outputs": [],
   "source": [
    "import plotly\n",
    "import numpy as np\n",
    "import pandas as pd\n",
    "import plotly.io as pio\n",
    "import plotly.express as px\n",
    "\n",
    "%matplotlib inline \n",
    "pio.renderers.default='iframe'"
   ]
  },
  {
   "cell_type": "code",
   "execution_count": null,
   "metadata": {},
   "outputs": [],
   "source": [
    "def draw_graph(df, title, y_axis = 'cluster_skill_count'):\n",
    "    labels={'cluster_skill_count': 'Count', 'cluster': 'Cluster', 'year': 'Year', \n",
    "            'natural_log': 'ln(Count)', 'percentage': 'Percentage per Year'}\n",
    "    fig = px.line(df, x='year', y=y_axis, color='cluster', labels=labels, width=800, height=400)\n",
    "    fig.update_layout(height=400, width=900, title_text=title, title_x=0.5, legend=dict(orientation=\"h\"), legend_title=\"\",)\n",
    "    fig.update_xaxes(tickmode='linear')\n",
    "    fig.update_traces(line=dict(width=4))\n",
    "    return fig"
   ]
  },
  {
   "cell_type": "markdown",
   "metadata": {},
   "source": [
    "# Combinations of 9, 12, 16"
   ]
  },
  {
   "cell_type": "code",
   "execution_count": null,
   "metadata": {},
   "outputs": [],
   "source": [
    "# cluster 9, 12, 16\n",
    "df = pd.read_csv(\"27/27_cluster_data.csv\", index_col=0)\n",
    "replace_values = { 9 : 'Computational Skills', 12 : 'Computational Skills', 16 : 'Computational Skills' } \n",
    "df = df.loc[df['cluster'].isin([9, 12, 16])]\n",
    "df = df.replace({\"cluster\": replace_values})\n",
    "df = df.groupby( [ \"year\", \"cluster\"])['cluster_skill_count'].sum().to_frame(name = 'cluster_skill_count').reset_index().sort_values(by='year', ascending=False)\n",
    "draw_graph(df, \"Trend of Computational Skills\")"
   ]
  },
  {
   "cell_type": "code",
   "execution_count": null,
   "metadata": {},
   "outputs": [],
   "source": [
    "# cluster 9, 12\n",
    "df = pd.read_csv(\"27/27_cluster_data.csv\", index_col=0)\n",
    "replace_values = { 9 : 'Computational Skills', 12 : 'Computational Skills' } \n",
    "df = df.loc[df['cluster'].isin([9, 12])]\n",
    "df = df.replace({\"cluster\": replace_values})\n",
    "df = df.groupby( [ \"year\", \"cluster\"])['cluster_skill_count'].sum().to_frame(name = 'cluster_skill_count').reset_index().sort_values(by='year', ascending=False)\n",
    "draw_graph(df, \"Trend of Computational Skills\")"
   ]
  },
  {
   "cell_type": "code",
   "execution_count": null,
   "metadata": {},
   "outputs": [],
   "source": [
    "# cluster 12, 16\n",
    "df = pd.read_csv(\"27/27_cluster_data.csv\", index_col=0)\n",
    "replace_values = { 12 : 'Computational Skills', 16 : 'Computational Skills' } \n",
    "df = df.loc[df['cluster'].isin([12, 16])]\n",
    "df = df.replace({\"cluster\": replace_values})\n",
    "df = df.groupby( [ \"year\", \"cluster\"])['cluster_skill_count'].sum().to_frame(name = 'cluster_skill_count').reset_index().sort_values(by='year', ascending=False)\n",
    "draw_graph(df, \"Trend of Computational Skills\")"
   ]
  },
  {
   "cell_type": "code",
   "execution_count": null,
   "metadata": {},
   "outputs": [],
   "source": [
    "# cluster 9, 16\n",
    "df = pd.read_csv(\"27/27_cluster_data.csv\", index_col=0)\n",
    "replace_values = { 9 : 'Computational Skills', 16 : 'Computational Skills' } \n",
    "df = df.loc[df['cluster'].isin([9, 16])]\n",
    "df = df.replace({\"cluster\": replace_values})\n",
    "df = df.groupby( [ \"year\", \"cluster\"])['cluster_skill_count'].sum().to_frame(name = 'cluster_skill_count').reset_index().sort_values(by='year', ascending=False)\n",
    "draw_graph(df, \"Trend of Computational Skills\")"
   ]
  },
  {
   "cell_type": "markdown",
   "metadata": {},
   "source": [
    "# Cluster 5 vs Combinations of 9, 12, 16"
   ]
  },
  {
   "cell_type": "code",
   "execution_count": null,
   "metadata": {},
   "outputs": [],
   "source": [
    "# cluster 5 vs 9, 12, 16 - original\n",
    "df = pd.read_csv(\"27/27_cluster_data.csv\", index_col=0)\n",
    "replace_values = { 5 : 'Journalism Skills', 9 : 'Computational Skills', 12 : 'Computational Skills', 16 : 'Computational Skills' } \n",
    "df = df.loc[df['cluster'].isin([5, 9, 12, 16])]\n",
    "df = df.replace({\"cluster\": replace_values})\n",
    "df = df.groupby( [ \"year\", \"cluster\"])['cluster_skill_count'].sum().to_frame(name = 'cluster_skill_count').reset_index().sort_values(by='year', ascending=False)\n",
    "draw_graph(df, \"Comparison of the Count of Journalism Skills vs. Computational Skills\")"
   ]
  },
  {
   "cell_type": "code",
   "execution_count": null,
   "metadata": {},
   "outputs": [],
   "source": [
    "# cluster 5 vs 9, 12, 16 - normalized\n",
    "df = pd.read_csv(\"27/27_cluster_data.csv\", index_col=0)\n",
    "replace_values = { 5 : 'Journalism Skills', 9 : 'Computational Skills', 12 : 'Computational Skills', 16 : 'Computational Skills' } \n",
    "df = df.loc[df['cluster'].isin([5, 9, 12, 16])]\n",
    "df = df.replace({\"cluster\": replace_values})\n",
    "df = df.groupby( [ \"year\", \"cluster\"])['cluster_skill_count'].sum().to_frame(name = 'cluster_skill_count').reset_index().sort_values(by='year', ascending=False)\n",
    "\n",
    "new_df = pd.DataFrame()\n",
    "min_val = df['cluster_skill_count'].min()\n",
    "max_val = df['cluster_skill_count'].max()\n",
    "clusters = df['cluster'].unique().tolist()\n",
    "for cluster in clusters:\n",
    "    temp_df = df[df['cluster']==cluster]\n",
    "    temp_df['normalized_score'] = (temp_df['cluster_skill_count'] - min_val)/(max_val-min_val)\n",
    "    new_df = pd.concat([new_df,temp_df])\n",
    "df = new_df.groupby([\"year\", \"cluster\"])['normalized_score'].sum().to_frame(name = 'cluster_skill_count').reset_index().sort_values(by='year', ascending=False)\n",
    "draw_graph(df, \"Comparison of the Noramlized Count of Journalism Skills vs. Computational Skills\")"
   ]
  },
  {
   "cell_type": "code",
   "execution_count": null,
   "metadata": {},
   "outputs": [],
   "source": [
    "# cluster 5 vs 9, 12, 16 - log scale\n",
    "df = pd.read_csv(\"27/27_cluster_data.csv\", index_col=0)\n",
    "replace_values = { 5 : 'Journalism Skills', 9 : 'Computational Skills', 12 : 'Computational Skills', 16 : 'Computational Skills' } \n",
    "df = df.loc[df['cluster'].isin([5, 9, 12, 16])]\n",
    "df = df.replace({\"cluster\": replace_values})\n",
    "df = df.groupby( [ \"year\", \"cluster\"])['cluster_skill_count'].sum().to_frame(name = 'cluster_skill_count').reset_index().sort_values(by='year', ascending=False)\n",
    "df['natural_log'] = np.log(df['cluster_skill_count'])\n",
    "# df['log_base_2'] = np.log2(df['cluster_skill_count'])\n",
    "# df['log_base_10'] = np.log10(df['cluster_skill_count'])\n",
    "draw_graph(df, \"Comparison of the Count of Journalism Skills vs. Computational Skills\", \"natural_log\")"
   ]
  },
  {
   "cell_type": "markdown",
   "metadata": {},
   "source": [
    "per skill count for an year / count of all skill for a year = percentage of the skill occuring in that year$\n"
   ]
  },
  {
   "cell_type": "code",
   "execution_count": null,
   "metadata": {},
   "outputs": [],
   "source": [
    "# cluster 5 vs 9, 12, 16 - percentage\n",
    "df = pd.read_csv(\"27/27_cluster_data.csv\", index_col=0)\n",
    "replace_values = { 5 : 'Journalism Skills', 9 : 'Computational Skills', 12 : 'Computational Skills', 16 : 'Computational Skills' } \n",
    "df = df.loc[df['cluster'].isin([5, 9, 12, 16])]\n",
    "df = df.replace({\"cluster\": replace_values})\n",
    "df = df.groupby( [ \"year\", \"cluster\"])['cluster_skill_count'].sum().to_frame(name = 'cluster_skill_count').reset_index().sort_values(by='year', ascending=False)\n",
    "df = pd.merge(df, pd.read_csv(\"count_per_year.csv\"), on=['year'])         \n",
    "df['percentage'] = (df['cluster_skill_count']/df['count'])*100\n",
    "\n",
    "labels={'cluster_skill_count': 'Count', 'cluster': 'Cluster', 'year': 'Year', \n",
    "            'natural_log': 'ln(Count)', 'percentage': 'Percentage per Year'}\n",
    "fig = px.line(df, x='year', y='percentage', color='cluster', labels=labels, width=800, height=400)\n",
    "fig.update_layout(height=400, width=900, title_text=\"Comparison of the Count of Journalism Skills vs. Computational Skills\", \n",
    "                  title_x=0.5, legend=dict(orientation=\"h\"), legend_title=\"\", template=\"plotly_white\")\n",
    "fig.update_xaxes(tickmode='linear')\n",
    "fig.update_yaxes(range = [0, 100])\n",
    "fig.update_traces(line=dict(width=4))"
   ]
  },
  {
   "cell_type": "code",
   "execution_count": null,
   "metadata": {},
   "outputs": [],
   "source": [
    "# cluster 5 vs 9, 12 - original\n",
    "df = pd.read_csv(\"27/27_cluster_data.csv\", index_col=0)\n",
    "replace_values = { 5 : 'Journalism Skills', 9 : 'Computational Skills', 12 : 'Computational Skills'} \n",
    "df = df.loc[df['cluster'].isin([5, 9, 12])]\n",
    "df = df.replace({\"cluster\": replace_values})\n",
    "df = df.groupby( [ \"year\", \"cluster\"])['cluster_skill_count'].sum().to_frame(name = 'cluster_skill_count').reset_index().sort_values(by='year', ascending=False)\n",
    "draw_graph(df, \"Comparison of the Count of Journalism Skills vs. Computational Skills\")"
   ]
  },
  {
   "cell_type": "code",
   "execution_count": null,
   "metadata": {},
   "outputs": [],
   "source": [
    "# cluster 5 vs 9, 12 - normalized\n",
    "df = pd.read_csv(\"27/27_cluster_data.csv\", index_col=0)\n",
    "replace_values = { 5 : 'Journalism Skills', 9 : 'Computational Skills', 12 : 'Computational Skills'} \n",
    "df = df.loc[df['cluster'].isin([5, 9, 12])]\n",
    "df = df.replace({\"cluster\": replace_values})\n",
    "df = df.groupby( [ \"year\", \"cluster\"])['cluster_skill_count'].sum().to_frame(name = 'cluster_skill_count').reset_index().sort_values(by='year', ascending=False)\n",
    "\n",
    "new_df = pd.DataFrame()\n",
    "clusters = df['cluster'].unique().tolist()\n",
    "for cluster in clusters:\n",
    "    temp_df = df[df['cluster']==cluster]\n",
    "    min_val = temp_df['cluster_skill_count'].min()\n",
    "    max_val = temp_df['cluster_skill_count'].max()\n",
    "    temp_df['normalized_score'] = (temp_df['cluster_skill_count'] - min_val)/(max_val-min_val)\n",
    "    new_df = pd.concat([new_df,temp_df])\n",
    "df = new_df.groupby([\"year\", \"cluster\"])['normalized_score'].sum().to_frame(name = 'cluster_skill_count').reset_index().sort_values(by='year', ascending=False)\n",
    "draw_graph(df, \"Comparison of the Noramlized Count of Journalism Skills vs. Computational Skills\")"
   ]
  },
  {
   "cell_type": "code",
   "execution_count": null,
   "metadata": {},
   "outputs": [],
   "source": [
    "# cluster 5 vs 9, 12 - log scale\n",
    "df = pd.read_csv(\"27/27_cluster_data.csv\", index_col=0)\n",
    "replace_values = { 5 : 'Journalism Skills', 9 : 'Computational Skills', 12 : 'Computational Skills'} \n",
    "df = df.loc[df['cluster'].isin([5, 9, 12])]\n",
    "df = df.replace({\"cluster\": replace_values})\n",
    "df = df.groupby( [ \"year\", \"cluster\"])['cluster_skill_count'].sum().to_frame(name = 'cluster_skill_count').reset_index().sort_values(by='year', ascending=False)\n",
    "df['natural_log'] = np.log(df['cluster_skill_count'])\n",
    "# df['log_base_2'] = np.log2(df['cluster_skill_count'])\n",
    "# df['log_base_10'] = np.log10(df['cluster_skill_count'])\n",
    "draw_graph(df, \"Comparison of the Count of Journalism Skills vs. Computational Skills\", \"natural_log\")"
   ]
  },
  {
   "cell_type": "code",
   "execution_count": null,
   "metadata": {},
   "outputs": [],
   "source": [
    "# cluster 5 vs 9, 12 - percentage\n",
    "df = pd.read_csv(\"27/27_cluster_data.csv\", index_col=0)\n",
    "replace_values = { 5 : 'Journalism Skills', 9 : 'Computational Skills', 12 : 'Computational Skills'} \n",
    "df = df.loc[df['cluster'].isin([5, 9, 12])]\n",
    "df = df.replace({\"cluster\": replace_values})\n",
    "df = df.groupby( [ \"year\", \"cluster\"])['cluster_skill_count'].sum().to_frame(name = 'cluster_skill_count').reset_index().sort_values(by='year', ascending=False)\n",
    "df = pd.merge(df, pd.read_csv(\"count_per_year.csv\"), on=['year'])         \n",
    "df['percentage'] = (df['cluster_skill_count']/df['count'])*100\n",
    "\n",
    "labels={'cluster_skill_count': 'Count', 'cluster': 'Cluster', 'year': 'Year', \n",
    "            'natural_log': 'ln(Count)', 'percentage': 'Percentage per Year'}\n",
    "fig = px.line(df, x='year', y='percentage', color='cluster', labels=labels, width=800, height=400)\n",
    "fig.update_layout(height=400, width=900, title_text=\"Comparison of the Count of Journalism Skills vs. Computational Skills\", \n",
    "                  title_x=0.5, legend=dict(orientation=\"h\"), legend_title=\"\", template=\"plotly_white\")\n",
    "fig.update_xaxes(tickmode='linear')\n",
    "fig.update_yaxes(range = [0, 100])\n",
    "fig.update_traces(line=dict(width=4))"
   ]
  },
  {
   "cell_type": "code",
   "execution_count": null,
   "metadata": {},
   "outputs": [],
   "source": [
    "# cluster 5 vs 9 16 - original\n",
    "df = pd.read_csv(\"27/27_cluster_data.csv\", index_col=0)\n",
    "replace_values = { 5 : 'Journalism Skills', 9 : 'Computational Skills', 16 : 'Computational Skills' } \n",
    "df = df.loc[df['cluster'].isin([5, 9, 16])]\n",
    "df = df.replace({\"cluster\": replace_values})\n",
    "df = df.groupby( [ \"year\", \"cluster\"])['cluster_skill_count'].sum().to_frame(name = 'cluster_skill_count').reset_index().sort_values(by='year', ascending=False)\n",
    "draw_graph(df, \"Comparison of the Count of Journalism Skills vs. Computational Skills\")"
   ]
  },
  {
   "cell_type": "code",
   "execution_count": null,
   "metadata": {},
   "outputs": [],
   "source": [
    "# cluster 5 vs 9 16 - normalized\n",
    "df = pd.read_csv(\"27/27_cluster_data.csv\", index_col=0)\n",
    "replace_values = { 5 : 'Journalism Skills', 9 : 'Computational Skills', 16 : 'Computational Skills' } \n",
    "df = df.loc[df['cluster'].isin([5, 9, 16])]\n",
    "df = df.replace({\"cluster\": replace_values})\n",
    "df = df.groupby( [ \"year\", \"cluster\"])['cluster_skill_count'].sum().to_frame(name = 'cluster_skill_count').reset_index().sort_values(by='year', ascending=False)\n",
    "\n",
    "new_df = pd.DataFrame()\n",
    "clusters = df['cluster'].unique().tolist()\n",
    "for cluster in clusters:\n",
    "    temp_df = df[df['cluster']==cluster]\n",
    "    min_val = temp_df['cluster_skill_count'].min()\n",
    "    max_val = temp_df['cluster_skill_count'].max()\n",
    "    temp_df['normalized_score'] = (temp_df['cluster_skill_count'] - min_val)/(max_val-min_val)\n",
    "    new_df = pd.concat([new_df,temp_df])\n",
    "df = new_df.groupby([\"year\", \"cluster\"])['normalized_score'].sum().to_frame(name = 'cluster_skill_count').reset_index().sort_values(by='year', ascending=False)\n",
    "draw_graph(df, \"Comparison of the Noramlized Count of Journalism Skills vs. Computational Skills\")"
   ]
  },
  {
   "cell_type": "code",
   "execution_count": null,
   "metadata": {},
   "outputs": [],
   "source": [
    "# cluster 5 vs 9, 16 - log scale\n",
    "df = pd.read_csv(\"27/27_cluster_data.csv\", index_col=0)\n",
    "replace_values = { 5 : 'Journalism Skills', 9 : 'Computational Skills', 16 : 'Computational Skills' } \n",
    "df = df.loc[df['cluster'].isin([5, 9, 16])]\n",
    "df = df.replace({\"cluster\": replace_values})\n",
    "df = df.groupby( [ \"year\", \"cluster\"])['cluster_skill_count'].sum().to_frame(name = 'cluster_skill_count').reset_index().sort_values(by='year', ascending=False)\n",
    "df['natural_log'] = np.log(df['cluster_skill_count'])\n",
    "# df['log_base_2'] = np.log2(df['cluster_skill_count'])\n",
    "# df['log_base_10'] = np.log10(df['cluster_skill_count'])\n",
    "draw_graph(df, \"Comparison of the Count of Journalism Skills vs. Computational Skills\", \"natural_log\")"
   ]
  },
  {
   "cell_type": "code",
   "execution_count": null,
   "metadata": {},
   "outputs": [],
   "source": [
    "# cluster 5 vs 9, 16 - percentage\n",
    "df = pd.read_csv(\"27/27_cluster_data.csv\", index_col=0)\n",
    "replace_values = { 5 : 'Journalism Skills', 9 : 'Computational Skills', 16 : 'Computational Skills' } \n",
    "df = df.loc[df['cluster'].isin([5, 9, 16])]\n",
    "df = df.replace({\"cluster\": replace_values})\n",
    "df = df.groupby( [ \"year\", \"cluster\"])['cluster_skill_count'].sum().to_frame(name = 'cluster_skill_count').reset_index().sort_values(by='year', ascending=False)\n",
    "df = pd.merge(df, pd.read_csv(\"count_per_year.csv\"), on=['year'])         \n",
    "df['percentage'] = (df['cluster_skill_count']/df['count'])*100\n",
    "\n",
    "labels={'cluster_skill_count': 'Count', 'cluster': 'Cluster', 'year': 'Year', \n",
    "            'natural_log': 'ln(Count)', 'percentage': 'Percentage per Year'}\n",
    "fig = px.line(df, x='year', y='percentage', color='cluster', labels=labels, width=800, height=400)\n",
    "fig.update_layout(height=400, width=900, title_text=\"Comparison of the Count of Journalism Skills vs. Computational Skills\", \n",
    "                  title_x=0.5, legend=dict(orientation=\"h\"), legend_title=\"\", template=\"plotly_white\")\n",
    "fig.update_xaxes(tickmode='linear')\n",
    "fig.update_yaxes(range = [0, 100])\n",
    "fig.update_traces(line=dict(width=4))"
   ]
  },
  {
   "cell_type": "code",
   "execution_count": null,
   "metadata": {},
   "outputs": [],
   "source": [
    "# cluster 5 vs 12 16 - original\n",
    "df = pd.read_csv(\"27/27_cluster_data.csv\", index_col=0)\n",
    "replace_values = { 5 : 'Journalism Skills', 12 : 'Computational Skills', 16 : 'Computational Skills' } \n",
    "df = df.loc[df['cluster'].isin([5, 12, 16])]\n",
    "df = df.replace({\"cluster\": replace_values})\n",
    "df = df.groupby( [ \"year\", \"cluster\"])['cluster_skill_count'].sum().to_frame(name = 'cluster_skill_count').reset_index().sort_values(by='year', ascending=False)\n",
    "draw_graph(df, \"Comparison of the Count of Journalism Skills vs. Computational Skills\")"
   ]
  },
  {
   "cell_type": "code",
   "execution_count": null,
   "metadata": {},
   "outputs": [],
   "source": [
    "# cluster 5 vs 12 16 - normalized\n",
    "df = pd.read_csv(\"27/27_cluster_data.csv\", index_col=0)\n",
    "replace_values = { 5 : 'Journalism Skills', 12 : 'Computational Skills', 16 : 'Computational Skills' } \n",
    "df = df.loc[df['cluster'].isin([5, 12, 16])]\n",
    "df = df.replace({\"cluster\": replace_values})\n",
    "df = df.groupby( [ \"year\", \"cluster\"])['cluster_skill_count'].sum().to_frame(name = 'cluster_skill_count').reset_index().sort_values(by='year', ascending=False)\n",
    "\n",
    "new_df = pd.DataFrame()\n",
    "clusters = df['cluster'].unique().tolist()\n",
    "for cluster in clusters:\n",
    "    temp_df = df[df['cluster']==cluster]\n",
    "    min_val = temp_df['cluster_skill_count'].min()\n",
    "    max_val = temp_df['cluster_skill_count'].max()\n",
    "    temp_df['normalized_score'] = (temp_df['cluster_skill_count'] - min_val)/(max_val-min_val)\n",
    "    new_df = pd.concat([new_df,temp_df])\n",
    "df = new_df.groupby([\"year\", \"cluster\"])['normalized_score'].sum().to_frame(name = 'cluster_skill_count').reset_index().sort_values(by='year', ascending=False)\n",
    "draw_graph(df, \"Comparison of the Noramlized Count of Journalism Skills vs. Computational Skills\")"
   ]
  },
  {
   "cell_type": "code",
   "execution_count": null,
   "metadata": {},
   "outputs": [],
   "source": [
    "# cluster 5 vs 12, 16 - log scale\n",
    "df = pd.read_csv(\"27/27_cluster_data.csv\", index_col=0)\n",
    "replace_values = { 5 : 'Journalism Skills', 12 : 'Computational Skills', 16 : 'Computational Skills' } \n",
    "df = df.loc[df['cluster'].isin([5, 12, 16])]\n",
    "df = df.replace({\"cluster\": replace_values})\n",
    "df = df.groupby( [ \"year\", \"cluster\"])['cluster_skill_count'].sum().to_frame(name = 'cluster_skill_count').reset_index().sort_values(by='year', ascending=False)\n",
    "df['natural_log'] = np.log(df['cluster_skill_count'])\n",
    "# df['log_base_2'] = np.log2(df['cluster_skill_count'])\n",
    "# df['log_base_10'] = np.log10(df['cluster_skill_count'])\n",
    "draw_graph(df, \"Comparison of the Count of Journalism Skills vs. Computational Skills\", \"natural_log\")"
   ]
  },
  {
   "cell_type": "code",
   "execution_count": null,
   "metadata": {},
   "outputs": [],
   "source": [
    "# cluster 5 vs 12, 16 - percentage\n",
    "df = pd.read_csv(\"27/27_cluster_data.csv\", index_col=0)\n",
    "replace_values = { 5 : 'Journalism Skills', 12 : 'Computational Skills', 16 : 'Computational Skills' } \n",
    "df = df.loc[df['cluster'].isin([5, 12, 16])]\n",
    "df = df.replace({\"cluster\": replace_values})\n",
    "df = df.groupby( [ \"year\", \"cluster\"])['cluster_skill_count'].sum().to_frame(name = 'cluster_skill_count').reset_index().sort_values(by='year', ascending=False)\n",
    "df = pd.merge(df, pd.read_csv(\"count_per_year.csv\"), on=['year'])         \n",
    "df['percentage'] = (df['cluster_skill_count']/df['count'])*100\n",
    "\n",
    "labels={'cluster_skill_count': 'Count', 'cluster': 'Cluster', 'year': 'Year', \n",
    "            'natural_log': 'ln(Count)', 'percentage': 'Percentage per Year'}\n",
    "fig = px.line(df, x='year', y='percentage', color='cluster', labels=labels, width=800, height=400)\n",
    "fig.update_layout(height=400, width=900, title_text=\"Comparison of the Count of Journalism Skills vs. Computational Skills\", \n",
    "                  title_x=0.5, legend=dict(orientation=\"h\"), legend_title=\"\", template=\"plotly_white\")\n",
    "fig.update_xaxes(tickmode='linear')\n",
    "fig.update_yaxes(range = [0, 100])\n",
    "fig.update_traces(line=dict(width=4))"
   ]
  },
  {
   "cell_type": "code",
   "execution_count": null,
   "metadata": {},
   "outputs": [],
   "source": []
  }
 ],
 "metadata": {
  "instance_type": "ml.t3.medium",
  "kernelspec": {
   "display_name": "Python 3 (Data Science)",
   "language": "python",
   "name": "python3__SAGEMAKER_INTERNAL__arn:aws:sagemaker:us-east-1:081325390199:image/datascience-1.0"
  },
  "language_info": {
   "codemirror_mode": {
    "name": "ipython",
    "version": 3
   },
   "file_extension": ".py",
   "mimetype": "text/x-python",
   "name": "python",
   "nbconvert_exporter": "python",
   "pygments_lexer": "ipython3",
   "version": "3.7.10"
  }
 },
 "nbformat": 4,
 "nbformat_minor": 4
}
