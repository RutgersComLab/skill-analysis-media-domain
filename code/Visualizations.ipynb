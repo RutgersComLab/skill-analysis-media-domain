{
 "cells": [
  {
   "cell_type": "code",
   "execution_count": 3,
   "metadata": {},
   "outputs": [],
   "source": [
    "import plotly\n",
    "import pandas as pd\n",
    "import plotly.io as pio\n",
    "import plotly.express as px\n",
    "\n",
    "%matplotlib inline \n",
    "pio.renderers.default='iframe'"
   ]
  },
  {
   "cell_type": "code",
   "execution_count": 4,
   "metadata": {},
   "outputs": [],
   "source": [
    "def draw_graph(df, title):\n",
    "    labels={'cluster_skill_count': 'Count', 'cluster': 'Cluster', 'year': 'Year'}\n",
    "    fig = px.line(df, x='year', y='cluster_skill_count', color='cluster', labels=labels, width=800, height=400)\n",
    "    fig.update_layout(height=400, width=900, title_text=title, title_x=0.5, legend=dict(orientation=\"h\"), legend_title=\"\",)\n",
    "    fig.update_xaxes(tickmode='linear')\n",
    "    fig.update_traces(line=dict(width=4))\n",
    "    return fig"
   ]
  },
  {
   "cell_type": "markdown",
   "metadata": {},
   "source": [
    "# Cluster 5 vs Combinations of 9, 12, 16"
   ]
  },
  {
   "cell_type": "code",
   "execution_count": 3,
   "metadata": {},
   "outputs": [
    {
     "data": {
      "text/html": [
       "<iframe\n",
       "    scrolling=\"no\"\n",
       "    width=\"920px\"\n",
       "    height=\"420\"\n",
       "    src=\"iframe_figures/figure_3.html\"\n",
       "    frameborder=\"0\"\n",
       "    allowfullscreen\n",
       "></iframe>\n"
      ]
     },
     "metadata": {},
     "output_type": "display_data"
    }
   ],
   "source": [
    "# cluster 5 vs  9, 12, 16\n",
    "df = pd.read_csv(\"27/27_cluster_data.csv\", index_col=0)\n",
    "replace_values = { 5 : 'Journalism Skills', 9 : 'Computational Skills', 12 : 'Computational Skills', 16 : 'Computational Skills' } \n",
    "df = df.loc[df['cluster'].isin([5, 9, 12, 16])]\n",
    "df = df.replace({\"cluster\": replace_values})\n",
    "df = df.groupby( [ \"year\", \"cluster\"])['cluster_skill_count'].sum().to_frame(name = 'cluster_skill_count').reset_index().sort_values(by='year', ascending=False)\n",
    "draw_graph(df, \"Comparison of the Count of Journalism Skills vs. Computational Skills\")"
   ]
  },
  {
   "cell_type": "code",
   "execution_count": 20,
   "metadata": {},
   "outputs": [
    {
     "name": "stderr",
     "output_type": "stream",
     "text": [
      "/opt/conda/lib/python3.7/site-packages/ipykernel_launcher.py:14: SettingWithCopyWarning:\n",
      "\n",
      "\n",
      "A value is trying to be set on a copy of a slice from a DataFrame.\n",
      "Try using .loc[row_indexer,col_indexer] = value instead\n",
      "\n",
      "See the caveats in the documentation: https://pandas.pydata.org/pandas-docs/stable/user_guide/indexing.html#returning-a-view-versus-a-copy\n",
      "\n"
     ]
    },
    {
     "data": {
      "text/html": [
       "<iframe\n",
       "    scrolling=\"no\"\n",
       "    width=\"920px\"\n",
       "    height=\"420\"\n",
       "    src=\"iframe_figures/figure_20.html\"\n",
       "    frameborder=\"0\"\n",
       "    allowfullscreen\n",
       "></iframe>\n"
      ]
     },
     "metadata": {},
     "output_type": "display_data"
    }
   ],
   "source": [
    "# cluster 5 vs 9, 12, 16\n",
    "df = pd.read_csv(\"27/27_cluster_data.csv\", index_col=0)\n",
    "replace_values = { 5 : 'Journalism Skills', 9 : 'Computational Skills', 12 : 'Computational Skills', 16 : 'Computational Skills' } \n",
    "df = df.loc[df['cluster'].isin([5, 9, 12, 16])]\n",
    "df = df.replace({\"cluster\": replace_values})\n",
    "df = df.groupby( [ \"year\", \"cluster\"])['cluster_skill_count'].sum().to_frame(name = 'cluster_skill_count').reset_index().sort_values(by='year', ascending=False)\n",
    "\n",
    "new_df = pd.DataFrame()\n",
    "clusters = df['cluster'].unique().tolist()\n",
    "for cluster in clusters:\n",
    "    temp_df = df[df['cluster']==cluster]\n",
    "    min_val = temp_df['cluster_skill_count'].min()\n",
    "    max_val = temp_df['cluster_skill_count'].max()\n",
    "    temp_df['normalized_score'] = (temp_df['cluster_skill_count'] - min_val)/(max_val-min_val)\n",
    "    new_df = pd.concat([new_df,temp_df])\n",
    "df = new_df.groupby([\"year\", \"cluster\"])['normalized_score'].sum().to_frame(name = 'cluster_skill_count').reset_index().sort_values(by='year', ascending=False)\n",
    "draw_graph(df, \"Comparison of the Noramlized Count of Journalism Skills vs. Computational Skills\")"
   ]
  },
  {
   "cell_type": "code",
   "execution_count": 4,
   "metadata": {},
   "outputs": [
    {
     "data": {
      "text/html": [
       "<iframe\n",
       "    scrolling=\"no\"\n",
       "    width=\"920px\"\n",
       "    height=\"420\"\n",
       "    src=\"iframe_figures/figure_4.html\"\n",
       "    frameborder=\"0\"\n",
       "    allowfullscreen\n",
       "></iframe>\n"
      ]
     },
     "metadata": {},
     "output_type": "display_data"
    }
   ],
   "source": [
    "# cluster 5 vs 9, 12\n",
    "df = pd.read_csv(\"27/27_cluster_data.csv\", index_col=0)\n",
    "replace_values = { 5 : 'Journalism Skills', 9 : 'Computational Skills', 12 : 'Computational Skills'} \n",
    "df = df.loc[df['cluster'].isin([5, 9, 12])]\n",
    "df = df.replace({\"cluster\": replace_values})\n",
    "df = df.groupby( [ \"year\", \"cluster\"])['cluster_skill_count'].sum().to_frame(name = 'cluster_skill_count').reset_index().sort_values(by='year', ascending=False)\n",
    "draw_graph(df, \"Comparison of the Count of Journalism Skills vs. Computational Skills\")"
   ]
  },
  {
   "cell_type": "code",
   "execution_count": 21,
   "metadata": {},
   "outputs": [
    {
     "name": "stderr",
     "output_type": "stream",
     "text": [
      "/opt/conda/lib/python3.7/site-packages/ipykernel_launcher.py:14: SettingWithCopyWarning:\n",
      "\n",
      "\n",
      "A value is trying to be set on a copy of a slice from a DataFrame.\n",
      "Try using .loc[row_indexer,col_indexer] = value instead\n",
      "\n",
      "See the caveats in the documentation: https://pandas.pydata.org/pandas-docs/stable/user_guide/indexing.html#returning-a-view-versus-a-copy\n",
      "\n"
     ]
    },
    {
     "data": {
      "text/html": [
       "<iframe\n",
       "    scrolling=\"no\"\n",
       "    width=\"920px\"\n",
       "    height=\"420\"\n",
       "    src=\"iframe_figures/figure_21.html\"\n",
       "    frameborder=\"0\"\n",
       "    allowfullscreen\n",
       "></iframe>\n"
      ]
     },
     "metadata": {},
     "output_type": "display_data"
    }
   ],
   "source": [
    "# cluster 5 vs 9, 12\n",
    "df = pd.read_csv(\"27/27_cluster_data.csv\", index_col=0)\n",
    "replace_values = { 5 : 'Journalism Skills', 9 : 'Computational Skills', 12 : 'Computational Skills'} \n",
    "df = df.loc[df['cluster'].isin([5, 9, 12])]\n",
    "df = df.replace({\"cluster\": replace_values})\n",
    "df = df.groupby( [ \"year\", \"cluster\"])['cluster_skill_count'].sum().to_frame(name = 'cluster_skill_count').reset_index().sort_values(by='year', ascending=False)\n",
    "\n",
    "new_df = pd.DataFrame()\n",
    "clusters = df['cluster'].unique().tolist()\n",
    "for cluster in clusters:\n",
    "    temp_df = df[df['cluster']==cluster]\n",
    "    min_val = temp_df['cluster_skill_count'].min()\n",
    "    max_val = temp_df['cluster_skill_count'].max()\n",
    "    temp_df['normalized_score'] = (temp_df['cluster_skill_count'] - min_val)/(max_val-min_val)\n",
    "    new_df = pd.concat([new_df,temp_df])\n",
    "df = new_df.groupby([\"year\", \"cluster\"])['normalized_score'].sum().to_frame(name = 'cluster_skill_count').reset_index().sort_values(by='year', ascending=False)\n",
    "draw_graph(df, \"Comparison of the Noramlized Count of Journalism Skills vs. Computational Skills\")"
   ]
  },
  {
   "cell_type": "code",
   "execution_count": 5,
   "metadata": {},
   "outputs": [
    {
     "data": {
      "text/html": [
       "<iframe\n",
       "    scrolling=\"no\"\n",
       "    width=\"920px\"\n",
       "    height=\"420\"\n",
       "    src=\"iframe_figures/figure_5.html\"\n",
       "    frameborder=\"0\"\n",
       "    allowfullscreen\n",
       "></iframe>\n"
      ]
     },
     "metadata": {},
     "output_type": "display_data"
    }
   ],
   "source": [
    "# cluster 5 vs 9 16\n",
    "df = pd.read_csv(\"27/27_cluster_data.csv\", index_col=0)\n",
    "replace_values = { 5 : 'Journalism Skills', 9 : 'Computational Skills', 16 : 'Computational Skills' } \n",
    "df = df.loc[df['cluster'].isin([5, 9, 16])]\n",
    "df = df.replace({\"cluster\": replace_values})\n",
    "df = df.groupby( [ \"year\", \"cluster\"])['cluster_skill_count'].sum().to_frame(name = 'cluster_skill_count').reset_index().sort_values(by='year', ascending=False)\n",
    "draw_graph(df, \"Comparison of the Count of Journalism Skills vs. Computational Skills\")"
   ]
  },
  {
   "cell_type": "code",
   "execution_count": 22,
   "metadata": {},
   "outputs": [
    {
     "name": "stderr",
     "output_type": "stream",
     "text": [
      "/opt/conda/lib/python3.7/site-packages/ipykernel_launcher.py:14: SettingWithCopyWarning:\n",
      "\n",
      "\n",
      "A value is trying to be set on a copy of a slice from a DataFrame.\n",
      "Try using .loc[row_indexer,col_indexer] = value instead\n",
      "\n",
      "See the caveats in the documentation: https://pandas.pydata.org/pandas-docs/stable/user_guide/indexing.html#returning-a-view-versus-a-copy\n",
      "\n"
     ]
    },
    {
     "data": {
      "text/html": [
       "<iframe\n",
       "    scrolling=\"no\"\n",
       "    width=\"920px\"\n",
       "    height=\"420\"\n",
       "    src=\"iframe_figures/figure_22.html\"\n",
       "    frameborder=\"0\"\n",
       "    allowfullscreen\n",
       "></iframe>\n"
      ]
     },
     "metadata": {},
     "output_type": "display_data"
    }
   ],
   "source": [
    "# cluster 5 vs 9 16\n",
    "df = pd.read_csv(\"27/27_cluster_data.csv\", index_col=0)\n",
    "replace_values = { 5 : 'Journalism Skills', 9 : 'Computational Skills', 16 : 'Computational Skills' } \n",
    "df = df.loc[df['cluster'].isin([5, 9, 16])]\n",
    "df = df.replace({\"cluster\": replace_values})\n",
    "df = df.groupby( [ \"year\", \"cluster\"])['cluster_skill_count'].sum().to_frame(name = 'cluster_skill_count').reset_index().sort_values(by='year', ascending=False)\n",
    "\n",
    "new_df = pd.DataFrame()\n",
    "clusters = df['cluster'].unique().tolist()\n",
    "for cluster in clusters:\n",
    "    temp_df = df[df['cluster']==cluster]\n",
    "    min_val = temp_df['cluster_skill_count'].min()\n",
    "    max_val = temp_df['cluster_skill_count'].max()\n",
    "    temp_df['normalized_score'] = (temp_df['cluster_skill_count'] - min_val)/(max_val-min_val)\n",
    "    new_df = pd.concat([new_df,temp_df])\n",
    "df = new_df.groupby([\"year\", \"cluster\"])['normalized_score'].sum().to_frame(name = 'cluster_skill_count').reset_index().sort_values(by='year', ascending=False)\n",
    "draw_graph(df, \"Comparison of the Noramlized Count of Journalism Skills vs. Computational Skills\")"
   ]
  },
  {
   "cell_type": "code",
   "execution_count": 6,
   "metadata": {},
   "outputs": [
    {
     "data": {
      "text/html": [
       "<iframe\n",
       "    scrolling=\"no\"\n",
       "    width=\"920px\"\n",
       "    height=\"420\"\n",
       "    src=\"iframe_figures/figure_6.html\"\n",
       "    frameborder=\"0\"\n",
       "    allowfullscreen\n",
       "></iframe>\n"
      ]
     },
     "metadata": {},
     "output_type": "display_data"
    }
   ],
   "source": [
    "# cluster 5 vs 12 16\n",
    "df = pd.read_csv(\"27/27_cluster_data.csv\", index_col=0)\n",
    "replace_values = { 5 : 'Journalism Skills', 12 : 'Computational Skills', 16 : 'Computational Skills' } \n",
    "df = df.loc[df['cluster'].isin([5, 12, 16])]\n",
    "df = df.replace({\"cluster\": replace_values})\n",
    "df = df.groupby( [ \"year\", \"cluster\"])['cluster_skill_count'].sum().to_frame(name = 'cluster_skill_count').reset_index().sort_values(by='year', ascending=False)\n",
    "draw_graph(df, \"Comparison of the Count of Journalism Skills vs. Computational Skills\")"
   ]
  },
  {
   "cell_type": "code",
   "execution_count": 23,
   "metadata": {},
   "outputs": [
    {
     "name": "stderr",
     "output_type": "stream",
     "text": [
      "/opt/conda/lib/python3.7/site-packages/ipykernel_launcher.py:14: SettingWithCopyWarning:\n",
      "\n",
      "\n",
      "A value is trying to be set on a copy of a slice from a DataFrame.\n",
      "Try using .loc[row_indexer,col_indexer] = value instead\n",
      "\n",
      "See the caveats in the documentation: https://pandas.pydata.org/pandas-docs/stable/user_guide/indexing.html#returning-a-view-versus-a-copy\n",
      "\n"
     ]
    },
    {
     "data": {
      "text/html": [
       "<iframe\n",
       "    scrolling=\"no\"\n",
       "    width=\"920px\"\n",
       "    height=\"420\"\n",
       "    src=\"iframe_figures/figure_23.html\"\n",
       "    frameborder=\"0\"\n",
       "    allowfullscreen\n",
       "></iframe>\n"
      ]
     },
     "metadata": {},
     "output_type": "display_data"
    }
   ],
   "source": [
    "# cluster 5 vs 12 16\n",
    "df = pd.read_csv(\"27/27_cluster_data.csv\", index_col=0)\n",
    "replace_values = { 5 : 'Journalism Skills', 12 : 'Computational Skills', 16 : 'Computational Skills' } \n",
    "df = df.loc[df['cluster'].isin([5, 12, 16])]\n",
    "df = df.replace({\"cluster\": replace_values})\n",
    "df = df.groupby( [ \"year\", \"cluster\"])['cluster_skill_count'].sum().to_frame(name = 'cluster_skill_count').reset_index().sort_values(by='year', ascending=False)\n",
    "\n",
    "new_df = pd.DataFrame()\n",
    "clusters = df['cluster'].unique().tolist()\n",
    "for cluster in clusters:\n",
    "    temp_df = df[df['cluster']==cluster]\n",
    "    min_val = temp_df['cluster_skill_count'].min()\n",
    "    max_val = temp_df['cluster_skill_count'].max()\n",
    "    temp_df['normalized_score'] = (temp_df['cluster_skill_count'] - min_val)/(max_val-min_val)\n",
    "    new_df = pd.concat([new_df,temp_df])\n",
    "df = new_df.groupby([\"year\", \"cluster\"])['normalized_score'].sum().to_frame(name = 'cluster_skill_count').reset_index().sort_values(by='year', ascending=False)\n",
    "draw_graph(df, \"Comparison of the Noramlized Count of Journalism Skills vs. Computational Skills\")"
   ]
  }
 ],
 "metadata": {
  "instance_type": "ml.t3.medium",
  "kernelspec": {
   "display_name": "Python 3 (Data Science)",
   "language": "python",
   "name": "python3__SAGEMAKER_INTERNAL__arn:aws:sagemaker:us-east-1:081325390199:image/datascience-1.0"
  },
  "language_info": {
   "codemirror_mode": {
    "name": "ipython",
    "version": 3
   },
   "file_extension": ".py",
   "mimetype": "text/x-python",
   "name": "python",
   "nbconvert_exporter": "python",
   "pygments_lexer": "ipython3",
   "version": "3.7.10"
  }
 },
 "nbformat": 4,
 "nbformat_minor": 4
}
